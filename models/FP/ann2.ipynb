{
  "nbformat": 4,
  "nbformat_minor": 0,
  "metadata": {
    "colab": {
      "name": "ann2.ipynb",
      "provenance": []
    },
    "kernelspec": {
      "name": "python3",
      "display_name": "Python 3"
    }
  },
  "cells": [
    {
      "cell_type": "code",
      "metadata": {
        "id": "_LiCJgIMbpqG",
        "colab_type": "code",
        "colab": {}
      },
      "source": [
        "import pandas as pd\n"
      ],
      "execution_count": null,
      "outputs": []
    },
    {
      "cell_type": "code",
      "metadata": {
        "id": "3kngC3ItcDUH",
        "colab_type": "code",
        "colab": {}
      },
      "source": [
        "dataset = pd.read_csv('FP101.csv')\n",
        "X = dataset.iloc[:, [0,1,2]].values\n",
        "y = dataset.iloc[:, 3].values"
      ],
      "execution_count": null,
      "outputs": []
    },
    {
      "cell_type": "code",
      "metadata": {
        "id": "HZ8Dkg6CcRRx",
        "colab_type": "code",
        "colab": {}
      },
      "source": [
        "from sklearn.model_selection import train_test_split\n",
        "X_train, X_test, y_train, y_test = train_test_split(X, y, test_size = 0.25, random_state = 0)"
      ],
      "execution_count": null,
      "outputs": []
    },
    {
      "cell_type": "code",
      "metadata": {
        "id": "0XqgS_nZcTfy",
        "colab_type": "code",
        "colab": {}
      },
      "source": [
        "from sklearn.preprocessing import StandardScaler\n",
        "sc = StandardScaler()\n",
        "X_train = sc.fit_transform(X_train)\n",
        "X_test = sc.transform(X_test)"
      ],
      "execution_count": null,
      "outputs": []
    },
    {
      "cell_type": "code",
      "metadata": {
        "id": "Lx3ExfCqcYBx",
        "colab_type": "code",
        "colab": {}
      },
      "source": [
        "import keras\n",
        "from keras.models import Sequential\n",
        "from keras.layers import Dense"
      ],
      "execution_count": null,
      "outputs": []
    },
    {
      "cell_type": "code",
      "metadata": {
        "id": "zn8TX6j9ceEy",
        "colab_type": "code",
        "colab": {}
      },
      "source": [
        "classifier = Sequential()"
      ],
      "execution_count": null,
      "outputs": []
    },
    {
      "cell_type": "code",
      "metadata": {
        "id": "3i22AeeTcira",
        "colab_type": "code",
        "colab": {}
      },
      "source": [
        "classifier.add(Dense( units = 2, kernel_initializer = 'uniform', activation = 'relu', input_dim = 3))\n",
        "classifier.add(Dense(units = 2, kernel_initializer = 'uniform', activation = 'relu'))\n",
        "classifier.add(Dense(units = 1, kernel_initializer = 'uniform', activation = 'sigmoid'))\n",
        "classifier.compile(optimizer = 'adam', loss = 'binary_crossentropy', metrics = ['accuracy'])"
      ],
      "execution_count": null,
      "outputs": []
    },
    {
      "cell_type": "code",
      "metadata": {
        "id": "ltyPgjfac-HS",
        "colab_type": "code",
        "colab": {
          "base_uri": "https://localhost:8080/",
          "height": 1000
        },
        "outputId": "a7754e7b-d559-4bcd-f6ae-3cd888da249c"
      },
      "source": [
        "classifier.fit(X_train, y_train, batch_size = 10, epochs = 100)"
      ],
      "execution_count": null,
      "outputs": [
        {
          "output_type": "stream",
          "text": [
            "Epoch 1/100\n",
            "29/29 [==============================] - 0s 1ms/step - loss: 0.6932 - accuracy: 0.4842\n",
            "Epoch 2/100\n",
            "29/29 [==============================] - 0s 1ms/step - loss: 0.6932 - accuracy: 0.5053\n",
            "Epoch 3/100\n",
            "29/29 [==============================] - 0s 983us/step - loss: 0.6932 - accuracy: 0.5053\n",
            "Epoch 4/100\n",
            "29/29 [==============================] - 0s 1ms/step - loss: 0.6932 - accuracy: 0.5053\n",
            "Epoch 5/100\n",
            "29/29 [==============================] - 0s 1ms/step - loss: 0.6932 - accuracy: 0.5053\n",
            "Epoch 6/100\n",
            "29/29 [==============================] - 0s 1ms/step - loss: 0.6932 - accuracy: 0.5053\n",
            "Epoch 7/100\n",
            "29/29 [==============================] - 0s 979us/step - loss: 0.6932 - accuracy: 0.5053\n",
            "Epoch 8/100\n",
            "29/29 [==============================] - 0s 999us/step - loss: 0.6932 - accuracy: 0.5053\n",
            "Epoch 9/100\n",
            "29/29 [==============================] - 0s 995us/step - loss: 0.6932 - accuracy: 0.5053\n",
            "Epoch 10/100\n",
            "29/29 [==============================] - 0s 956us/step - loss: 0.6931 - accuracy: 0.5053\n",
            "Epoch 11/100\n",
            "29/29 [==============================] - 0s 1ms/step - loss: 0.6932 - accuracy: 0.5053\n",
            "Epoch 12/100\n",
            "29/29 [==============================] - 0s 1ms/step - loss: 0.6932 - accuracy: 0.5053\n",
            "Epoch 13/100\n",
            "29/29 [==============================] - 0s 997us/step - loss: 0.6931 - accuracy: 0.5053\n",
            "Epoch 14/100\n",
            "29/29 [==============================] - 0s 1ms/step - loss: 0.6932 - accuracy: 0.5053\n",
            "Epoch 15/100\n",
            "29/29 [==============================] - 0s 1ms/step - loss: 0.6931 - accuracy: 0.5053\n",
            "Epoch 16/100\n",
            "29/29 [==============================] - 0s 963us/step - loss: 0.6931 - accuracy: 0.5053\n",
            "Epoch 17/100\n",
            "29/29 [==============================] - 0s 1ms/step - loss: 0.6931 - accuracy: 0.5053\n",
            "Epoch 18/100\n",
            "29/29 [==============================] - 0s 1ms/step - loss: 0.6931 - accuracy: 0.5053\n",
            "Epoch 19/100\n",
            "29/29 [==============================] - 0s 1ms/step - loss: 0.6931 - accuracy: 0.5053\n",
            "Epoch 20/100\n",
            "29/29 [==============================] - 0s 1ms/step - loss: 0.6931 - accuracy: 0.5053\n",
            "Epoch 21/100\n",
            "29/29 [==============================] - 0s 976us/step - loss: 0.6931 - accuracy: 0.5053\n",
            "Epoch 22/100\n",
            "29/29 [==============================] - 0s 997us/step - loss: 0.6931 - accuracy: 0.5053\n",
            "Epoch 23/100\n",
            "29/29 [==============================] - 0s 1ms/step - loss: 0.6931 - accuracy: 0.5053\n",
            "Epoch 24/100\n",
            "29/29 [==============================] - 0s 978us/step - loss: 0.6931 - accuracy: 0.5053\n",
            "Epoch 25/100\n",
            "29/29 [==============================] - 0s 987us/step - loss: 0.6931 - accuracy: 0.5053\n",
            "Epoch 26/100\n",
            "29/29 [==============================] - 0s 1ms/step - loss: 0.6931 - accuracy: 0.5053\n",
            "Epoch 27/100\n",
            "29/29 [==============================] - 0s 987us/step - loss: 0.6932 - accuracy: 0.5053\n",
            "Epoch 28/100\n",
            "29/29 [==============================] - 0s 975us/step - loss: 0.6931 - accuracy: 0.5053\n",
            "Epoch 29/100\n",
            "29/29 [==============================] - 0s 1ms/step - loss: 0.6931 - accuracy: 0.5053\n",
            "Epoch 30/100\n",
            "29/29 [==============================] - 0s 985us/step - loss: 0.6932 - accuracy: 0.5053\n",
            "Epoch 31/100\n",
            "29/29 [==============================] - 0s 1ms/step - loss: 0.6931 - accuracy: 0.5053\n",
            "Epoch 32/100\n",
            "29/29 [==============================] - 0s 968us/step - loss: 0.6931 - accuracy: 0.5053\n",
            "Epoch 33/100\n",
            "29/29 [==============================] - 0s 958us/step - loss: 0.6931 - accuracy: 0.5053\n",
            "Epoch 34/100\n",
            "29/29 [==============================] - 0s 957us/step - loss: 0.6931 - accuracy: 0.5053\n",
            "Epoch 35/100\n",
            "29/29 [==============================] - 0s 978us/step - loss: 0.6931 - accuracy: 0.5053\n",
            "Epoch 36/100\n",
            "29/29 [==============================] - 0s 979us/step - loss: 0.6931 - accuracy: 0.5053\n",
            "Epoch 37/100\n",
            "29/29 [==============================] - 0s 1ms/step - loss: 0.6931 - accuracy: 0.5053\n",
            "Epoch 38/100\n",
            "29/29 [==============================] - 0s 1ms/step - loss: 0.6931 - accuracy: 0.5053\n",
            "Epoch 39/100\n",
            "29/29 [==============================] - 0s 945us/step - loss: 0.6931 - accuracy: 0.5053\n",
            "Epoch 40/100\n",
            "29/29 [==============================] - 0s 1ms/step - loss: 0.6931 - accuracy: 0.5053\n",
            "Epoch 41/100\n",
            "29/29 [==============================] - 0s 993us/step - loss: 0.6931 - accuracy: 0.5053\n",
            "Epoch 42/100\n",
            "29/29 [==============================] - 0s 946us/step - loss: 0.6931 - accuracy: 0.5053\n",
            "Epoch 43/100\n",
            "29/29 [==============================] - 0s 1ms/step - loss: 0.6931 - accuracy: 0.5053\n",
            "Epoch 44/100\n",
            "29/29 [==============================] - 0s 981us/step - loss: 0.6931 - accuracy: 0.5053\n",
            "Epoch 45/100\n",
            "29/29 [==============================] - 0s 1ms/step - loss: 0.6931 - accuracy: 0.5053\n",
            "Epoch 46/100\n",
            "29/29 [==============================] - 0s 1ms/step - loss: 0.6931 - accuracy: 0.5053\n",
            "Epoch 47/100\n",
            "29/29 [==============================] - 0s 962us/step - loss: 0.6932 - accuracy: 0.5053\n",
            "Epoch 48/100\n",
            "29/29 [==============================] - 0s 1ms/step - loss: 0.6931 - accuracy: 0.5053\n",
            "Epoch 49/100\n",
            "29/29 [==============================] - 0s 1ms/step - loss: 0.6932 - accuracy: 0.5053\n",
            "Epoch 50/100\n",
            "29/29 [==============================] - 0s 964us/step - loss: 0.6932 - accuracy: 0.5053\n",
            "Epoch 51/100\n",
            "29/29 [==============================] - 0s 1ms/step - loss: 0.6931 - accuracy: 0.5053\n",
            "Epoch 52/100\n",
            "29/29 [==============================] - 0s 1ms/step - loss: 0.6931 - accuracy: 0.5053\n",
            "Epoch 53/100\n",
            "29/29 [==============================] - 0s 1ms/step - loss: 0.6931 - accuracy: 0.5053\n",
            "Epoch 54/100\n",
            "29/29 [==============================] - 0s 1ms/step - loss: 0.6931 - accuracy: 0.5053\n",
            "Epoch 55/100\n",
            "29/29 [==============================] - 0s 990us/step - loss: 0.6931 - accuracy: 0.5053\n",
            "Epoch 56/100\n",
            "29/29 [==============================] - 0s 993us/step - loss: 0.6931 - accuracy: 0.5053\n",
            "Epoch 57/100\n",
            "29/29 [==============================] - 0s 1ms/step - loss: 0.6932 - accuracy: 0.5053\n",
            "Epoch 58/100\n",
            "29/29 [==============================] - 0s 1ms/step - loss: 0.6931 - accuracy: 0.5053\n",
            "Epoch 59/100\n",
            "29/29 [==============================] - 0s 945us/step - loss: 0.6932 - accuracy: 0.5053\n",
            "Epoch 60/100\n",
            "29/29 [==============================] - 0s 1ms/step - loss: 0.6932 - accuracy: 0.5053\n",
            "Epoch 61/100\n",
            "29/29 [==============================] - 0s 1ms/step - loss: 0.6931 - accuracy: 0.5053\n",
            "Epoch 62/100\n",
            "29/29 [==============================] - 0s 979us/step - loss: 0.6932 - accuracy: 0.5053\n",
            "Epoch 63/100\n",
            "29/29 [==============================] - 0s 1ms/step - loss: 0.6931 - accuracy: 0.5053\n",
            "Epoch 64/100\n",
            "29/29 [==============================] - 0s 1ms/step - loss: 0.6932 - accuracy: 0.5053\n",
            "Epoch 65/100\n",
            "29/29 [==============================] - 0s 1ms/step - loss: 0.6931 - accuracy: 0.5053\n",
            "Epoch 66/100\n",
            "29/29 [==============================] - 0s 1ms/step - loss: 0.6931 - accuracy: 0.5053\n",
            "Epoch 67/100\n",
            "29/29 [==============================] - 0s 1ms/step - loss: 0.6932 - accuracy: 0.5053\n",
            "Epoch 68/100\n",
            "29/29 [==============================] - 0s 1ms/step - loss: 0.6931 - accuracy: 0.5053\n",
            "Epoch 69/100\n",
            "29/29 [==============================] - 0s 1ms/step - loss: 0.6931 - accuracy: 0.5053\n",
            "Epoch 70/100\n",
            "29/29 [==============================] - 0s 1ms/step - loss: 0.6931 - accuracy: 0.5053\n",
            "Epoch 71/100\n",
            "29/29 [==============================] - 0s 1ms/step - loss: 0.6932 - accuracy: 0.5053\n",
            "Epoch 72/100\n",
            "29/29 [==============================] - 0s 1ms/step - loss: 0.6931 - accuracy: 0.5053\n",
            "Epoch 73/100\n",
            "29/29 [==============================] - 0s 1ms/step - loss: 0.6931 - accuracy: 0.5053\n",
            "Epoch 74/100\n",
            "29/29 [==============================] - 0s 1ms/step - loss: 0.6931 - accuracy: 0.5053\n",
            "Epoch 75/100\n",
            "29/29 [==============================] - 0s 1ms/step - loss: 0.6931 - accuracy: 0.5053\n",
            "Epoch 76/100\n",
            "29/29 [==============================] - 0s 1ms/step - loss: 0.6931 - accuracy: 0.5053\n",
            "Epoch 77/100\n",
            "29/29 [==============================] - 0s 1ms/step - loss: 0.6931 - accuracy: 0.5053\n",
            "Epoch 78/100\n",
            "29/29 [==============================] - 0s 1ms/step - loss: 0.6931 - accuracy: 0.5053\n",
            "Epoch 79/100\n",
            "29/29 [==============================] - 0s 1ms/step - loss: 0.6931 - accuracy: 0.5053\n",
            "Epoch 80/100\n",
            "29/29 [==============================] - 0s 1ms/step - loss: 0.6931 - accuracy: 0.5053\n",
            "Epoch 81/100\n",
            "29/29 [==============================] - 0s 1ms/step - loss: 0.6931 - accuracy: 0.5053\n",
            "Epoch 82/100\n",
            "29/29 [==============================] - 0s 1ms/step - loss: 0.6931 - accuracy: 0.5053\n",
            "Epoch 83/100\n",
            "29/29 [==============================] - 0s 1ms/step - loss: 0.6931 - accuracy: 0.5053\n",
            "Epoch 84/100\n",
            "29/29 [==============================] - 0s 1ms/step - loss: 0.6931 - accuracy: 0.5053\n",
            "Epoch 85/100\n",
            "29/29 [==============================] - 0s 1ms/step - loss: 0.6932 - accuracy: 0.5053\n",
            "Epoch 86/100\n",
            "29/29 [==============================] - 0s 2ms/step - loss: 0.6931 - accuracy: 0.5053\n",
            "Epoch 87/100\n",
            "29/29 [==============================] - 0s 1ms/step - loss: 0.6931 - accuracy: 0.5053\n",
            "Epoch 88/100\n",
            "29/29 [==============================] - 0s 1ms/step - loss: 0.6931 - accuracy: 0.5053\n",
            "Epoch 89/100\n",
            "29/29 [==============================] - 0s 1ms/step - loss: 0.6931 - accuracy: 0.5053\n",
            "Epoch 90/100\n",
            "29/29 [==============================] - 0s 1ms/step - loss: 0.6931 - accuracy: 0.5053\n",
            "Epoch 91/100\n",
            "29/29 [==============================] - 0s 1ms/step - loss: 0.6932 - accuracy: 0.5053\n",
            "Epoch 92/100\n",
            "29/29 [==============================] - 0s 1ms/step - loss: 0.6931 - accuracy: 0.5053\n",
            "Epoch 93/100\n",
            "29/29 [==============================] - 0s 1ms/step - loss: 0.6931 - accuracy: 0.5053\n",
            "Epoch 94/100\n",
            "29/29 [==============================] - 0s 2ms/step - loss: 0.6931 - accuracy: 0.5053\n",
            "Epoch 95/100\n",
            "29/29 [==============================] - 0s 1ms/step - loss: 0.6932 - accuracy: 0.5053\n",
            "Epoch 96/100\n",
            "29/29 [==============================] - 0s 1ms/step - loss: 0.6931 - accuracy: 0.5053\n",
            "Epoch 97/100\n",
            "29/29 [==============================] - 0s 1ms/step - loss: 0.6931 - accuracy: 0.5053\n",
            "Epoch 98/100\n",
            "29/29 [==============================] - 0s 1ms/step - loss: 0.6931 - accuracy: 0.5053\n",
            "Epoch 99/100\n",
            "29/29 [==============================] - 0s 1ms/step - loss: 0.6931 - accuracy: 0.5053\n",
            "Epoch 100/100\n",
            "29/29 [==============================] - 0s 1ms/step - loss: 0.6931 - accuracy: 0.5053\n"
          ],
          "name": "stdout"
        },
        {
          "output_type": "execute_result",
          "data": {
            "text/plain": [
              "<tensorflow.python.keras.callbacks.History at 0x7f211a343d30>"
            ]
          },
          "metadata": {
            "tags": []
          },
          "execution_count": 73
        }
      ]
    },
    {
      "cell_type": "code",
      "metadata": {
        "id": "U66zuNJZdqUg",
        "colab_type": "code",
        "colab": {}
      },
      "source": [
        "y_pred = classifier.predict(X_test)\n",
        "y_pred = (y_pred > 0.5)"
      ],
      "execution_count": null,
      "outputs": []
    },
    {
      "cell_type": "code",
      "metadata": {
        "id": "o6p7rNptd338",
        "colab_type": "code",
        "colab": {
          "base_uri": "https://localhost:8080/",
          "height": 51
        },
        "outputId": "4f086fb3-e408-48df-8fb5-34ecad064951"
      },
      "source": [
        "from sklearn.metrics import confusion_matrix\n",
        "cm = confusion_matrix(y_test, y_pred)\n",
        "print(cm)"
      ],
      "execution_count": null,
      "outputs": [
        {
          "output_type": "stream",
          "text": [
            "[[ 0 50]\n",
            " [ 0 45]]\n"
          ],
          "name": "stdout"
        }
      ]
    },
    {
      "cell_type": "code",
      "metadata": {
        "id": "DMyZWKckeE5k",
        "colab_type": "code",
        "colab": {
          "base_uri": "https://localhost:8080/",
          "height": 34
        },
        "outputId": "2058327e-b294-4447-a07f-0b7a48bb3382"
      },
      "source": [
        "from sklearn.metrics import accuracy_score\n",
        "score =accuracy_score(y_test,y_pred)\n",
        "print(score)"
      ],
      "execution_count": null,
      "outputs": [
        {
          "output_type": "stream",
          "text": [
            "0.5\n"
          ],
          "name": "stdout"
        }
      ]
    }
  ]
}